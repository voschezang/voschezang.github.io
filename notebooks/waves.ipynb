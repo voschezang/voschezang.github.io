{
 "cells": [
  {
   "cell_type": "markdown",
   "id": "0278e06f-bc2f-43fc-af7c-3b5d9274dc56",
   "metadata": {},
   "source": [
    "# Waves\n",
    "\n",
    "> Waves are just cycles.\n",
    "\n",
    "Everything that repeats itself is a wave. Waves occur in water, music, dance and video.\n",
    "\n",
    "Mathematically, a wave is a propagating disturbance. Movement may happen across _temporal_ and _spatial_ dimensions.\n",
    "\n",
    "## Simple Waves\n",
    "\n",
    "Waves have a period $T$ and a frequency (rate) $f = \\frac1T$.\n",
    "Sinoids have an amplitude $A$ and a phase offset $\\varphi$.\n",
    "\n",
    "See\n",
    "- [Lissajous patterns](https://github.com/voschezang/voschezang.github.io/blob/main/notebooks/lissajous.ipynb/).\n",
    "- [Signal processing](https://github.com/voschezang/coding-handbook/blob/main/math/signal-processing.md)."
   ]
  },
  {
   "cell_type": "code",
   "execution_count": 23,
   "id": "0fb19b9a-4216-4fc4-972a-633316159be5",
   "metadata": {},
   "outputs": [
    {
     "data": {
      "text/html": [
       "<p>Sines and cycles\n",
       "<a href=\"https://voschezang.github.io/img/Sine.mov\">(source)</a></p>\n",
       "<video width=\"600\" height=\"300\" controls loop autoplay muted>\n",
       "  <source src=\"https://voschezang.github.io/img/Sine.mov\" type=\"video/mp4\">Sine\n",
       "</video>\n"
      ],
      "text/plain": [
       "<IPython.core.display.HTML object>"
      ]
     },
     "metadata": {},
     "output_type": "display_data"
    }
   ],
   "source": [
    "%%HTML\n",
    "<p>Sines and cycles\n",
    "<a href=\"https://voschezang.github.io/img/Sine.mov\">(source)</a>.</p>\n",
    "<video width=\"600\" height=\"300\" controls loop autoplay muted>\n",
    "  <source src=\"https://voschezang.github.io/img/Sine.mov\" type=\"video/mp4\">Sine\n",
    "</video>"
   ]
  },
  {
   "cell_type": "markdown",
   "id": "77a71128-c62e-47ea-9103-b7bd212ceea0",
   "metadata": {},
   "source": [
    "## Harmony\n",
    "\n",
    "Waves can be summed linearly. In fact, the superposition of multiple waves is a single new wave. In general such forms are indistinguishable.\n",
    "\n",
    "When the frequencies and phases are aligned, beautiful patterns can emerge.\n",
    "\n",
    "$$\n",
    "y(x) = \\sum_i A_i \\sin(f_i x + \\varphi_i)\n",
    "$$\n",
    "\n",
    "This example shows a square wave. This can be used to create (near-)digital patterns.\n",
    "\n",
    "![](https://raw.githubusercontent.com/voschezang/coding-handbook/main/img/plot-waves-square.png)"
   ]
  },
  {
   "cell_type": "markdown",
   "id": "2e6e925e-620a-44eb-938f-8aea2c7fddf8",
   "metadata": {},
   "source": [
    "## 2D Waves\n",
    "\n",
    "In 2D space, waves can be displayed as images. Let the color be a function of space: $c \\in \\mathbb R^{N, M}$\n",
    "\n",
    "$$\n",
    "c_{i, j} = \\cos i \\Delta x + \\sin j \\Delta y\n",
    "$$\n",
    "\n",
    "The wave can be continuous. E.g. a function of space: $\\mathbb R \\times \\mathbb R \\to \\mathbb R$\n",
    "\n",
    "$$\n",
    "c(x, y) = \\cos \\left ( f \\cdot \\sqrt{x^2 + y^2} \\right)\n",
    "$$\n",
    "\n",
    "![](https://raw.githubusercontent.com/voschezang/coding-handbook/main/img/plot-waves-2d-radial.png)\n",
    "\n",
    "\n",
    "## Time Modulation and Recursion\n",
    "\n",
    "Such a wave can be modulated over time. The recursive function $g_i$ is used to create fractal patterns.\n",
    "\n",
    "$$\n",
    "c_t(x, y) = \\sum_i \\cos \\left( f_i^1 \\cdot t + f_i^2 \\cdot g_i \\left( \\sqrt{x^2 + y^2} \\right) \\right)\n",
    "\\qquad\\qquad i = 1, 2, 3\n",
    "$$\n",
    "\n",
    "$$\n",
    "g_i(s) = g_{i-1}(\\alpha \\cdot s) \\mod 1\n",
    "\\qquad \\qquad \\alpha \\in \\mathbb R\n",
    "$$\n",
    "\n",
    "_Skewing_ space creates a focus on the origin coordinates $\\langle 0, 0 \\rangle$.\n",
    "\n",
    "$$\n",
    "g_i'(s) = g_i(s) \\cdot e^{-\\beta} \n",
    "\\qquad \\qquad \\beta \\in [1, 2]\n",
    "$$\n",
    "\n",
    "The parameters $\\alpha, \\beta$ can be chosed to taste to control the resulting shape."
   ]
  },
  {
   "cell_type": "code",
   "execution_count": 22,
   "id": "1f6f9049-b59f-46b3-9a10-404c1ab4d790",
   "metadata": {},
   "outputs": [
    {
     "data": {
      "text/html": [
       "<p>A multifrequency, modulated wave\n",
       "<a href=\"https://voschezang.github.io/img/fractal-sines.mp4\">source</a></p>\n",
       "<video width=\"600\" height=\"300\" controls loop autoplay muted>\n",
       "  <source src=\"https://voschezang.github.io/img/fractal-sines.mp4\" type=\"video/mp4\">Fractal sines\n",
       "</video>\n"
      ],
      "text/plain": [
       "<IPython.core.display.HTML object>"
      ]
     },
     "metadata": {},
     "output_type": "display_data"
    }
   ],
   "source": [
    "%%HTML\n",
    "<p>A multifrequency, modulated wave\n",
    "<a href=\"https://voschezang.github.io/img/fractal-sines.mp4\">(source)</a>.</p>\n",
    "<video width=\"600\" height=\"300\" controls loop autoplay muted>\n",
    "  <source src=\"https://voschezang.github.io/img/fractal-sines.mp4\" type=\"video/mp4\">Fractal sines\n",
    "</video>"
   ]
  },
  {
   "cell_type": "markdown",
   "id": "ef644070-0c1c-48cf-9887-76f2233495cb",
   "metadata": {},
   "source": [
    "## Physics Simulations\n",
    "\n",
    "2D waves can be taken a step further. Time is discretized and each frame is dependent on the previous frame.\n",
    "\n",
    "$$\n",
    "c_k = c_{k-1} + D \\cdot \\nabla^2 c_{k-1}\n",
    "$$\n",
    "\n",
    "Where $c_{k-1} \\equiv c_{k-1}(x, y)$ and $D$ controls the diffusion rate.\n",
    "\n",
    "See [wave equation](https://en.wikipedia.org/wiki/Wave_equation)."
   ]
  },
  {
   "cell_type": "code",
   "execution_count": 25,
   "id": "c9a949bc-96e8-4357-85a2-00bf843d0288",
   "metadata": {},
   "outputs": [
    {
     "data": {
      "text/html": [
       "<p>A 2D vibrating membrane\n",
       "<a href=\"https://voschezang.github.io/Scientific-Computing-Models/img/set-3/Membrane-cond-1_(3d).mp4\">(source)</a>.</p>\n",
       "<video width=\"600\" height=\"300\" controls loop autoplay muted>\n",
       "  <source src=\"https://voschezang.github.io/Scientific-Computing-Models/img/set-3/Membrane-cond-1_(3d).mp4\" type=\"video/mp4\">Vibrating membrane\n",
       "</video>\n"
      ],
      "text/plain": [
       "<IPython.core.display.HTML object>"
      ]
     },
     "metadata": {},
     "output_type": "display_data"
    }
   ],
   "source": [
    "%%HTML\n",
    "<p>A 2D vibrating membrane\n",
    "<a href=\"https://voschezang.github.io/Scientific-Computing-Models/img/set-3/Membrane-cond-1_(3d).mp4\">(source)</a>.</p>\n",
    "<video width=\"600\" height=\"300\" controls loop autoplay muted>\n",
    "  <source src=\"https://voschezang.github.io/Scientific-Computing-Models/img/set-3/Membrane-cond-1_(3d).mp4\" type=\"video/mp4\">Vibrating membrane\n",
    "</video>"
   ]
  },
  {
   "cell_type": "markdown",
   "id": "547594b5-75bd-4194-be8d-d37175a58d1c",
   "metadata": {},
   "source": [
    "These techniques can simulate fluids and gasses. First, let's define a reaction function for arbitrary substances $U, V, P$.\n",
    "\n",
    "$$ U + 2V \\to 3V $$\n",
    "$$ V \\to P $$\n",
    "\n",
    "Which can be modelled as:\n",
    "\n",
    "$$\n",
    "u_k = D_u \\cdot \\nabla^2 c_{k-1} + f \\left( u_{k-1} + v_{k-1} \\right)\n",
    "$$\n",
    "\n",
    "See [reaction-diffusion](https://en.wikipedia.org/wiki/Reaction%E2%80%93diffusion_system)."
   ]
  },
  {
   "cell_type": "code",
   "execution_count": 24,
   "id": "7ed758c7-f847-4fa9-95d8-a685d267f407",
   "metadata": {},
   "outputs": [
    {
     "data": {
      "text/html": [
       "<p>A reaction diffusion simulation \n",
       "<a href=\"https://voschezang.github.io/Scientific-Computing-Models/img/set-2/Gray-Scott_sq%20pink.mp4\">(source)</a>.</p>\n",
       "<video width=\"600\" height=\"300\" controls loop autoplay muted>\n",
       "  <source src=\"https://voschezang.github.io/Scientific-Computing-Models/img/set-2/Gray-Scott_sq%20pink.mp4\" type=\"video/mp4\">Diffusion\n",
       "</video>\n"
      ],
      "text/plain": [
       "<IPython.core.display.HTML object>"
      ]
     },
     "metadata": {},
     "output_type": "display_data"
    }
   ],
   "source": [
    "%%HTML\n",
    "<p>A reaction diffusion simulation \n",
    "<a href=\"https://voschezang.github.io/Scientific-Computing-Models/img/set-2/Gray-Scott_sq%20pink.mp4\">(source)</a>.</p>\n",
    "<video width=\"600\" height=\"300\" controls loop autoplay muted>\n",
    "  <source src=\"https://voschezang.github.io/Scientific-Computing-Models/img/set-2/Gray-Scott_sq%20pink.mp4\" type=\"video/mp4\">Diffusion\n",
    "</video>"
   ]
  },
  {
   "cell_type": "code",
   "execution_count": null,
   "id": "8df4a466-2b2d-4d19-ac8c-e4e894e8ae29",
   "metadata": {},
   "outputs": [],
   "source": []
  }
 ],
 "metadata": {
  "kernelspec": {
   "display_name": "Python 3 (ipykernel)",
   "language": "python",
   "name": "python3"
  },
  "language_info": {
   "codemirror_mode": {
    "name": "ipython",
    "version": 3
   },
   "file_extension": ".py",
   "mimetype": "text/x-python",
   "name": "python",
   "nbconvert_exporter": "python",
   "pygments_lexer": "ipython3",
   "version": "3.9.6"
  }
 },
 "nbformat": 4,
 "nbformat_minor": 5
}
