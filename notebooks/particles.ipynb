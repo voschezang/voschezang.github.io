{
 "cells": [
  {
   "cell_type": "markdown",
   "id": "ac7b1d7b-710d-4197-96ff-033265537b4e",
   "metadata": {},
   "source": [
    "# Particles\n",
    "\n",
    "Atoms and balls can be modelled as spherical-shape particles.\n",
    "\n",
    "They have two main properties. The mass $m \\in \\mathbb R$ and a position $\\vec x \\in \\mathbb R^3$ (for 3D space).\n",
    "\n",
    "## Mathematical representation\n",
    "\n",
    "Movement over time is given by the following equation, which can be derived using a Taylor expansion (in 1D).\n",
    "\n",
    "$$ x(t + \\partial t) = x(t) + \\dot x(t) \\cdot \\partial t + \\frac12 \\ddot x(t) \\cdot \\partial t^2 + \\dots$$\n",
    "\n",
    "where $\\dot u(t)$ and $\\ddot u(t)$ are the first- and second-order time derivatives of $u$. Higher order derivatives can be added for accuracy.\n",
    "\n",
    "## Numerical representation\n",
    "\n",
    "In our simulation we use an arbitrary small time increment $\\Delta t$. We also use a more intuitive notation for the velocity and acceleration:\n",
    "\n",
    "$$ v(t) \\equiv \\dot x(t)$$\n",
    "$$ a(t) \\equiv \\ddot x(t)$$\n",
    "\n",
    "The resulting equation for the position at a new time interval is given by:\n",
    "\n",
    "$$ x(t + \\Delta t) = x(t) + v(t) \\cdot \\Delta t + \\frac12 a(t) \\cdot \\Delta t^2 $$\n",
    "\n",
    "\n",
    "In our simulation, $\\ddot u(t)$ is re-computed at each time increment (see below). The velocity is derived by adding the accelaration to the previous velocity:\n",
    "\n",
    "$$ v(t + \\Delta t) = v(t) + \\frac12 a(t + \\Delta t) \\cdot \\Delta t $$\n"
   ]
  },
  {
   "cell_type": "markdown",
   "id": "fb7066b8-a586-42d0-b3b4-c3ca173aef16",
   "metadata": {},
   "source": [
    "## Forces\n",
    "\n",
    "Movement of particles is controled using forces. Consider the following [physics](https://en.wikipedia.org/wiki/Newton%27s_laws_of_motion) equation.\n",
    "\n",
    "$$ F = m \\cdot a = \\sum_i F_i $$\n",
    "\n",
    "This can be rewritten to compute the acceleration at the next time increment.\n",
    "\n",
    "$$ a(t + \\Delta t) = \\frac{F}m = \\frac1m \\sum_i F_i $$\n",
    "\n",
    "where $F$ is the linear sum of all forces $F_i$ acting on our particle and $a$ is a shorthand for the accelaration.\n",
    "\n",
    "\n"
   ]
  },
  {
   "cell_type": "code",
   "execution_count": 1,
   "id": "8aff83f2-5390-465e-997e-53a0e78009cb",
   "metadata": {},
   "outputs": [
    {
     "data": {
      "text/html": [
       "<p>Free-floating particles in 3D space\n",
       "<a href=\"https://voschezang.github.io/img/lissajous-noise-modulation.mov\">(source)</a></p>\n",
       "<video width=\"600\" height=\"300\" controls loop autoplay muted>\n",
       "  <source src=\"https://voschezang.github.io/img/3d-lights.mp4\" type=\"video/mp4\">Particle Simulation\n",
       "</video>\n"
      ],
      "text/plain": [
       "<IPython.core.display.HTML object>"
      ]
     },
     "metadata": {},
     "output_type": "display_data"
    }
   ],
   "source": [
    "%%HTML\n",
    "<p>Free-floating particles in 3D space\n",
    "<a href=\"https://voschezang.github.io/img/lissajous-noise-modulation.mov\">(source)</a>.</p>\n",
    "<video width=\"600\" height=\"300\" controls loop autoplay muted>\n",
    "  <source src=\"https://voschezang.github.io/img/3d-lights.mp4\" type=\"video/mp4\">Particle Simulation\n",
    "</video>"
   ]
  },
  {
   "cell_type": "markdown",
   "id": "61f42ce7-3c45-49c7-abfc-4e8b20122a1a",
   "metadata": {},
   "source": [
    "# Collisions\n",
    "\n",
    "Most _solid_ particles bounce of each other. This can be modelled using [collision](https://en.wikipedia.org/wiki/Elastic_collision) equations.\n"
   ]
  },
  {
   "cell_type": "code",
   "execution_count": null,
   "id": "585e5d29-44e5-4094-b01d-9c46446d25a6",
   "metadata": {},
   "outputs": [],
   "source": []
  }
 ],
 "metadata": {
  "kernelspec": {
   "display_name": "Python 3 (ipykernel)",
   "language": "python",
   "name": "python3"
  },
  "language_info": {
   "codemirror_mode": {
    "name": "ipython",
    "version": 3
   },
   "file_extension": ".py",
   "mimetype": "text/x-python",
   "name": "python",
   "nbconvert_exporter": "python",
   "pygments_lexer": "ipython3",
   "version": "3.9.6"
  }
 },
 "nbformat": 4,
 "nbformat_minor": 5
}
