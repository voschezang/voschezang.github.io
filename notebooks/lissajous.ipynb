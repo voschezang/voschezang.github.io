{
 "cells": [
  {
   "cell_type": "markdown",
   "id": "777a3460-6cb8-4c91-aa82-d4c62208ac89",
   "metadata": {},
   "source": [
    "# Lissajous Curves\n",
    "\n",
    "This is a 2D curve that uses sinoids with an offset. It uses the parameters $ f, t, \\phi \\in \\mathbb R $. See [wikipedia](https://en.wikipedia.org/wiki/Lissajous_curve).\n",
    "\n",
    "$$ x(t) = \\cos (2 \\pi f t - \\phi) $$\n",
    "$$ y(t) = \\sin (2 \\pi f t - \\phi) $$"
   ]
  },
  {
   "cell_type": "markdown",
   "id": "9212e992-bc9d-4220-a4a6-0fc3fba7e0cf",
   "metadata": {},
   "source": [
    "## Modulation\n",
    "\n",
    "Types\n",
    "1. Vary the frequency and phase.\n",
    "2. Modulate the amplitude over time.\n",
    "\n",
    "## Constant modulation\n",
    "\n",
    "First, setup a grid and vary the frequency $ f $ and the phase $ \\phi $, in the horizontal and vertical dimensions, respectively.\n",
    "\n",
    "Let\n",
    "$$ i = 1, 2, \\dots \\,\\,\\, j = 1, 2, \\dots $$\n",
    "and\n",
    "$$ f_i = \\frac34, \\frac12, \\frac14, \\frac18, \\frac1{12} $$\n",
    "$$ \\phi_j = 0, \\frac14 \\pi, \\frac12 \\pi, \\pi, \\frac32 \\pi, \\frac74 \\pi $$\n",
    "\n",
    "For each cell $\\langle i, j \\rangle$ vary $f_i$ and $\\phi_j$.\n",
    "\n",
    "$$ x_{ij}(t) = \\cos (2 \\pi f_i t - \\phi) $$\n",
    "$$ y_{ij}(t) = \\sin (2 \\pi f_y t - \\phi_j) $$\n",
    "\n",
    "This produces a grid for $x_{ij}$ and $y_{ij}$.\n",
    "|   | 1   | 2   | ...   |\n",
    "|---|-----|-----|-----|\n",
    "| $\\textbf{1}$ | $x_{11}$ | $x_{21}$ | ... |\n",
    "| $\\textbf{2}$ | $x_{12}$ | $x_{21}$ | ... |"
   ]
  },
  {
   "cell_type": "markdown",
   "id": "0e15a68a-bb5c-4a6d-8a7c-64ec736ac767",
   "metadata": {},
   "source": [
    "### Time-modulation\n",
    "\n",
    "The first modulation wave is a sinoid in $ [-0.9, 1.1] $. It creates a ripple effect.\n",
    "The frequency $f_r$ is chosen s.t. its period is a multiple of the period of the 2D lissajous curve.\n",
    "\n",
    "$$ r(t) = 1 + \\frac{\\cos 2\\pi f_r t}{10} $$\n",
    "\n",
    "The second wave is a slower sinoid in $ [0.1, 0.9] $,\n",
    "$$ A(t) = \\log \\frac{1+\\cos 2\\pi f_A t}2 $$\n",
    "\n",
    "where\n",
    "$$ f_A = \\frac{f}{8} $$\n",
    "\n",
    "Use the sum of the two as the amplitude or radius of the original sionoids.\n",
    "\n",
    "$$ x(t) = A(t) r(t) \\cos (2 \\pi f t - \\phi) $$\n",
    "$$ y(t) = A(t) r(t) \\sin (2 \\pi f t - \\phi) $$\n",
    "\n",
    "See [example video](https://voschezang.github.io/img/lissajous-noise-modulation.mp4)"
   ]
  },
  {
   "cell_type": "code",
   "execution_count": 7,
   "id": "f40136ef-3dd5-4ca4-a372-fdb7b8ff2228",
   "metadata": {},
   "outputs": [
    {
     "data": {
      "text/html": [
       "<video width=\"600\" height=\"300\" controls loop autoplay muted>\n",
       "  <source src=\"https://voschezang.github.io/img/lissajous-noise-modulation.mp4\" type=\"video/mp4\">Lissajous grid\n",
       "</video>\n"
      ],
      "text/plain": [
       "<IPython.core.display.HTML object>"
      ]
     },
     "metadata": {},
     "output_type": "display_data"
    }
   ],
   "source": [
    "%%HTML\n",
    "<video width=\"600\" height=\"300\" controls loop autoplay muted>\n",
    "  <source src=\"https://voschezang.github.io/img/lissajous-noise-modulation.mp4\" type=\"video/mp4\">Lissajous grid\n",
    "</video>"
   ]
  },
  {
   "cell_type": "markdown",
   "id": "8890c003-7dc4-4c53-8c70-f8ac8d0e686c",
   "metadata": {},
   "source": [
    "## Triangles\n",
    "\n",
    "Use 3 coordinates from the curve to draw a triangle.\n",
    "\n",
    "Let\n",
    "$$ \\phi_k \\in [0, 2\\pi) $$\n",
    "$$ \\alpha_k = 2 \\pi f_i t - \\phi - \\phi_k $$\n",
    "\n",
    "From which an alternative $t'$ can be derived\n",
    "$$ t' = \\frac{\\alpha_k + \\phi + \\phi_k}{2 \\pi f_i} $$\n",
    "\n",
    "The same can be done for the $y$ equation.\n",
    "\n",
    "\n",
    "Substitute $t_k$ in the original equations to obtain the triangle coordinates.\n",
    "\n",
    "$$ x_{ijk}(t) = \\cos (2 \\pi f_i t_k - \\phi) $$\n",
    "\n",
    "$$ y_{ijk}(t - t_k) = \\cos (2 \\pi f t_k - \\phi_j $$\n",
    "\n",
    "See [example video](https://voschezang.github.io/img/lissajous-triangles-clean.mp4)"
   ]
  },
  {
   "cell_type": "code",
   "execution_count": 9,
   "id": "004e2b09-ca5a-45aa-841d-8c7af6429577",
   "metadata": {},
   "outputs": [
    {
     "data": {
      "text/html": [
       "<video width=\"600\" height=\"300\" controls loop autoplay muted>\n",
       "  <source src=\"https://voschezang.github.io/img/lissajous-triangles-clean.mp4\" type=\"video/mp4\">\n",
       "  <a href=\"https://voschezang.github.io/img/lissajous-triangles-clean.mp4\">Lissajous triangles</a>\n",
       "</video>\n"
      ],
      "text/plain": [
       "<IPython.core.display.HTML object>"
      ]
     },
     "metadata": {},
     "output_type": "display_data"
    }
   ],
   "source": [
    "%%HTML\n",
    "<video width=\"600\" height=\"300\" controls loop autoplay muted>\n",
    "  <source src=\"https://voschezang.github.io/img/lissajous-triangles-clean.mp4\" type=\"video/mp4\">Lissajous triangles\n",
    "</video>"
   ]
  },
  {
   "cell_type": "code",
   "execution_count": null,
   "id": "bd0767ee-7162-4c97-a54a-0659363e06fe",
   "metadata": {},
   "outputs": [],
   "source": []
  }
 ],
 "metadata": {
  "kernelspec": {
   "display_name": "Python 3 (ipykernel)",
   "language": "python",
   "name": "python3"
  },
  "language_info": {
   "codemirror_mode": {
    "name": "ipython",
    "version": 3
   },
   "file_extension": ".py",
   "mimetype": "text/x-python",
   "name": "python",
   "nbconvert_exporter": "python",
   "pygments_lexer": "ipython3",
   "version": "3.9.6"
  }
 },
 "nbformat": 4,
 "nbformat_minor": 5
}
